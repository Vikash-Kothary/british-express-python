{
 "cells": [
  {
   "cell_type": "markdown",
   "metadata": {},
   "source": [
    "# Example: View timeline"
   ]
  },
  {
   "cell_type": "code",
   "execution_count": null,
   "metadata": {},
   "outputs": [],
   "source": [
    "cd .."
   ]
  },
  {
   "cell_type": "code",
   "execution_count": null,
   "metadata": {},
   "outputs": [],
   "source": [
    "# Imports\n",
    "from datetime import date\n",
    "from IPython.display import Image, display\n",
    "#import imageio\n",
    "#imageio.plugins.ffmpeg.download()\n",
    "#File saved as /home/vikash/.imageio/ffmpeg/ffmpeg-linux64-v3.3.1.\n",
    "import instagram_api\n",
    "import os\n",
    "from pprint import pprint"
   ]
  },
  {
   "cell_type": "code",
   "execution_count": null,
   "metadata": {},
   "outputs": [],
   "source": [
    "# Config\n",
    "from dotenv import load_dotenv\n",
    "from pathlib import Path\n",
    "env_path = Path('.env')\n",
    "load_dotenv(dotenv_path=env_path)\n",
    "username = os.getenv('FB_USERNAME')\n",
    "password = os.getenv('FB_PASSWORD')\n",
    "username is not None and password is not None"
   ]
  },
  {
   "cell_type": "code",
   "execution_count": null,
   "metadata": {},
   "outputs": [],
   "source": [
    "try:\n",
    "    instagram is not None\n",
    "except:\n",
    "    instagram = instagram_api.Client(username=username, password=password)\n",
    "if not instagram.isLoggedIn:\n",
    "    instagram.login()\n",
    "instagram.isLoggedIn"
   ]
  },
  {
   "cell_type": "code",
   "execution_count": null,
   "metadata": {},
   "outputs": [],
   "source": [
    "instagram.timelineFeed()"
   ]
  },
  {
   "cell_type": "code",
   "execution_count": null,
   "metadata": {},
   "outputs": [],
   "source": [
    "post_num = 0\n",
    "pic_num = 0"
   ]
  },
  {
   "cell_type": "code",
   "execution_count": null,
   "metadata": {},
   "outputs": [],
   "source": [
    "feed = instagram.LastJson['items']\n",
    "for post_num in range(len(feed)):\n",
    "    post = feed[post_num]\n",
    "    if 'carousel_media' not in post:\n",
    "        picture = post\n",
    "    else:\n",
    "        pictures = post['carousel_media']\n",
    "        picture = pictures[post_num]\n",
    "    url = picture['image_versions2']['candidates'][1]['url']\n",
    "    print(url)\n",
    "    break"
   ]
  },
  {
   "cell_type": "code",
   "execution_count": null,
   "metadata": {},
   "outputs": [],
   "source": []
  }
 ],
 "metadata": {
  "kernelspec": {
   "display_name": "Python 3",
   "language": "python",
   "name": "python3"
  },
  "language_info": {
   "codemirror_mode": {
    "name": "ipython",
    "version": 3
   },
   "file_extension": ".py",
   "mimetype": "text/x-python",
   "name": "python",
   "nbconvert_exporter": "python",
   "pygments_lexer": "ipython3",
   "version": "3.6.7"
  }
 },
 "nbformat": 4,
 "nbformat_minor": 2
}
