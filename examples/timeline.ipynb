{
 "cells": [
  {
   "cell_type": "markdown",
   "metadata": {},
   "source": [
    "# Example: View timeline"
   ]
  },
  {
   "cell_type": "code",
   "execution_count": 1,
   "metadata": {},
   "outputs": [
    {
     "name": "stdout",
     "output_type": "stream",
     "text": [
      "/home/vikash/Programming/python/british-express-python\n"
     ]
    }
   ],
   "source": [
    "cd .."
   ]
  },
  {
   "cell_type": "code",
   "execution_count": 2,
   "metadata": {},
   "outputs": [],
   "source": [
    "# Imports\n",
    "\n",
    "import instagram_api\n",
    "import os\n",
    "from pprint import pprint\n",
    "from datetime import date\n",
    "from IPython.display import Image, display\n",
    "#import imageio\n",
    "#imageio.plugins.ffmpeg.download()\n",
    "#File saved as /home/vikash/.imageio/ffmpeg/ffmpeg-linux64-v3.3.1."
   ]
  },
  {
   "cell_type": "code",
   "execution_count": 3,
   "metadata": {},
   "outputs": [
    {
     "data": {
      "text/plain": [
       "True"
      ]
     },
     "execution_count": 3,
     "metadata": {},
     "output_type": "execute_result"
    }
   ],
   "source": [
    "# Config\n",
    "from dotenv import load_dotenv\n",
    "from pathlib import Path\n",
    "env_path = Path('.env')\n",
    "load_dotenv(dotenv_path=env_path)\n",
    "username = os.getenv('FB_USERNAME')\n",
    "password = os.getenv('FB_PASSWORD')\n",
    "username is not None and password is not None"
   ]
  },
  {
   "cell_type": "code",
   "execution_count": 6,
   "metadata": {},
   "outputs": [],
   "source": [
    "# Models\n",
    "class Pictures(object):\n",
    "    def __init__(self, data):\n",
    "        picture_url = None\n",
    "        thumbnail_url = None\n",
    "        pprint(data)"
   ]
  },
  {
   "cell_type": "code",
   "execution_count": 21,
   "metadata": {},
   "outputs": [],
   "source": [
    "# Utils\n",
    "class FileUtils:\n",
    "\n",
    "    @staticmethod\n",
    "    def find_file(name):\n",
    "        for root, dirs, files in os.walk('./'):\n",
    "            if name in files:\n",
    "                return os.path.join(root, name)\n",
    "\n",
    "    @staticmethod\n",
    "    def save_json_to_file(data, file):\n",
    "        with open(file, 'w') as outfile:\n",
    "            json.dump(data, outfile, indent=4, sort_keys=True)\n"
   ]
  },
  {
   "cell_type": "code",
   "execution_count": 4,
   "metadata": {},
   "outputs": [
    {
     "name": "stdout",
     "output_type": "stream",
     "text": [
      "Request return 404 error!\n",
      "Login success!\n",
      "\n"
     ]
    },
    {
     "data": {
      "text/plain": [
       "True"
      ]
     },
     "execution_count": 4,
     "metadata": {},
     "output_type": "execute_result"
    }
   ],
   "source": [
    "try:\n",
    "    instagram is not None\n",
    "except:\n",
    "    instagram = instagram_api.Client(username=username, password=password)\n",
    "if not instagram.isLoggedIn:\n",
    "    instagram.login()\n",
    "instagram.isLoggedIn"
   ]
  },
  {
   "cell_type": "code",
   "execution_count": 5,
   "metadata": {},
   "outputs": [
    {
     "data": {
      "text/plain": [
       "True"
      ]
     },
     "execution_count": 5,
     "metadata": {},
     "output_type": "execute_result"
    }
   ],
   "source": [
    "instagram.timelineFeed()"
   ]
  },
  {
   "cell_type": "code",
   "execution_count": null,
   "metadata": {},
   "outputs": [],
   "source": [
    "post_num = 0\n",
    "pic_num = 0"
   ]
  },
  {
   "cell_type": "code",
   "execution_count": 34,
   "metadata": {},
   "outputs": [
    {
     "data": {
      "text/plain": [
       "'https://scontent-lhr3-1.cdninstagram.com/vp/4037f94e414825a8912ad6e5432ece22/5CA97A90/t51.2885-15/e35/s240x240/45710470_272689453348959_3949750927303306213_n.jpg'"
      ]
     },
     "execution_count": 34,
     "metadata": {},
     "output_type": "execute_result"
    }
   ],
   "source": [
    "photos = []\n",
    "feed = instagram.LastJson['items']\n",
    "for post_num in range(len(feed)):\n",
    "    post = feed[post_num]\n",
    "    if 'carousel_media' not in post:\n",
    "        picture = post\n",
    "    else:\n",
    "        pictures = post['carousel_media']\n",
    "        picture = pictures[post_num]\n",
    "    url = picture['image_versions2']['candidates'][1]['url']\n",
    "    photos.append(url.split('?')[0])\n",
    "    break\n",
    "photos[0]"
   ]
  },
  {
   "cell_type": "code",
   "execution_count": null,
   "metadata": {},
   "outputs": [],
   "source": [
    "pictures = []\n",
    "feed = instagram.LastJson['items']\n",
    "for post_num in range(len(feed)):\n",
    "    post = feed[post_num]\n",
    "    if 'carousel_media' not in post:\n",
    "        pictures.append(Picture(post))\n",
    "    else:\n",
    "        pictures = post['carousel_media']\n",
    "        for\n",
    "        picture = pictures[post_num]\n",
    "    url = picture['image_versions2']['candidates'][1]['url']\n",
    "    photos.append(url.split('?')[0])\n",
    "    break\n",
    "photos[0]"
   ]
  },
  {
   "cell_type": "code",
   "execution_count": 32,
   "metadata": {},
   "outputs": [
    {
     "data": {
      "text/html": [
       "<img src=\"https://scontent-lhr3-1.cdninstagram.com/vp/4037f94e414825a8912ad6e5432ece22/5CA97A90/t51.2885-15/e35/s240x240/45710470_272689453348959_3949750927303306213_n.jpg\"/>"
      ],
      "text/plain": [
       "<IPython.core.display.Image object>"
      ]
     },
     "metadata": {},
     "output_type": "display_data"
    }
   ],
   "source": [
    "# Display images\n",
    "images = []\n",
    "for i in range(len(photos)):\n",
    "    images.append(Image(url=photos[i]))\n",
    "display(*images)"
   ]
  },
  {
   "cell_type": "code",
   "execution_count": null,
   "metadata": {},
   "outputs": [],
   "source": []
  }
 ],
 "metadata": {
  "kernelspec": {
   "display_name": "Python 3",
   "language": "python",
   "name": "python3"
  },
  "language_info": {
   "codemirror_mode": {
    "name": "ipython",
    "version": 3
   },
   "file_extension": ".py",
   "mimetype": "text/x-python",
   "name": "python",
   "nbconvert_exporter": "python",
   "pygments_lexer": "ipython3",
   "version": "3.6.7"
  }
 },
 "nbformat": 4,
 "nbformat_minor": 2
}
